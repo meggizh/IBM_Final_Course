{
 "cells": [
  {
   "cell_type": "markdown",
   "metadata": {},
   "source": [
    "<p style=\"text-align:center\">\n",
    "    <a href=\"https://skills.network/?utm_medium=Exinfluencer&utm_source=Exinfluencer&utm_content=000026UJ&utm_term=10006555&utm_id=NA-SkillsNetwork-Channel-SkillsNetworkCoursesIBMDS0321ENSkillsNetwork26802033-2022-01-01\" target=\"_blank\">\n",
    "    <img src=\"https://cf-courses-data.s3.us.cloud-object-storage.appdomain.cloud/assets/logos/SN_web_lightmode.png\" width=\"200\" alt=\"Skills Network Logo\"  />\n",
    "    </a>\n",
    "</p>\n",
    "\n",
    "<h1 align=center><font size = 5>Part 3: Assignment: SQL Notebook for Peer Assignment</font></h1>\n",
    "\n",
    "Estimated time needed: **60** minutes.\n",
    "\n",
    "## Introduction\n",
    "\n",
    "Using this Python notebook you will:\n",
    "\n",
    "1.  Understand the Spacex DataSet\n",
    "2.  Load the dataset  into the corresponding table in a Db2 database\n",
    "3.  Execute SQL queries to answer assignment questions\n"
   ]
  },
  {
   "cell_type": "markdown",
   "metadata": {},
   "source": [
    "## Overview of the DataSet\n",
    "\n",
    "SpaceX has gained worldwide attention for a series of historic milestones.\n",
    "\n",
    "It is the only private company ever to return a spacecraft from low-earth orbit, which it first accomplished in December 2010.\n",
    "SpaceX advertises Falcon 9 rocket launches on its website with a cost of 62 million dollars wheras other providers cost upward of 165 million dollars each, much of the savings is because Space X can reuse the first stage.\n",
    "\n",
    "Therefore if we can determine if the first stage will land, we can determine the cost of a launch.\n",
    "\n",
    "This information can be used if an alternate company wants to bid against SpaceX for a rocket launch.\n",
    "\n",
    "This dataset includes a record for each payload carried during a SpaceX mission into outer space.\n"
   ]
  },
  {
   "cell_type": "markdown",
   "metadata": {},
   "source": [
    "### Download the datasets\n",
    "\n",
    "This assignment requires you to load the spacex dataset.\n",
    "\n",
    "In many cases the dataset to be analyzed is available as a .CSV (comma separated values) file, perhaps on the internet. Click on the link below to download and save the dataset (.CSV file):\n",
    "\n",
    "<a href=\"https://cf-courses-data.s3.us.cloud-object-storage.appdomain.cloud/IBM-DS0321EN-SkillsNetwork/labs/module_2/data/Spacex.csv?utm_medium=Exinfluencer&utm_source=Exinfluencer&utm_content=000026UJ&utm_term=10006555&utm_id=NA-SkillsNetwork-Channel-SkillsNetworkCoursesIBMDS0321ENSkillsNetwork26802033-2022-01-01\" target=\"_blank\">Spacex DataSet</a>\n"
   ]
  },
  {
   "cell_type": "markdown",
   "metadata": {},
   "source": [
    "### Store the dataset in database table\n",
    "\n",
    "**it is highly recommended to manually load the table using the database console LOAD tool in DB2**.\n",
    "\n",
    "<img src = \"https://cf-courses-data.s3.us.cloud-object-storage.appdomain.cloud/IBM-DS0321EN-SkillsNetwork/labs/module_2/images/spacexload.png\">\n",
    "\n",
    "Now open the Db2 console, open the LOAD tool, Select / Drag the .CSV file for the  dataset, Next create a New Table, and then follow the steps on-screen instructions to load the data. Name the new table as follows:\n",
    "\n",
    "**SPACEXDATASET**\n",
    "\n",
    "**Follow these steps while using old DB2 UI which is having Open Console Screen**\n",
    "\n",
    "**Note:While loading Spacex dataset, ensure that detect datatypes is disabled. Later click on the pencil icon(edit option).**\n",
    "\n",
    "1.  Change the Date Format by manually typing DD-MM-YYYY and timestamp format as DD-MM-YYYY HH\\:MM:SS\n",
    "\n",
    "2.  Change the PAYLOAD_MASS\\_\\_KG\\_  datatype  to INTEGER.\n",
    "\n",
    "<img src = \"https://cf-courses-data.s3.us.cloud-object-storage.appdomain.cloud/IBM-DS0321EN-SkillsNetwork/labs/module_2/images/spacexload2.png\">\n"
   ]
  },
  {
   "cell_type": "code",
   "execution_count": 1,
   "metadata": {},
   "outputs": [
    {
     "data": {
      "text/html": [
       "<div>\n",
       "<style scoped>\n",
       "    .dataframe tbody tr th:only-of-type {\n",
       "        vertical-align: middle;\n",
       "    }\n",
       "\n",
       "    .dataframe tbody tr th {\n",
       "        vertical-align: top;\n",
       "    }\n",
       "\n",
       "    .dataframe thead th {\n",
       "        text-align: right;\n",
       "    }\n",
       "</style>\n",
       "<table border=\"1\" class=\"dataframe\">\n",
       "  <thead>\n",
       "    <tr style=\"text-align: right;\">\n",
       "      <th></th>\n",
       "      <th>Date</th>\n",
       "      <th>Time (UTC)</th>\n",
       "      <th>Booster_Version</th>\n",
       "      <th>Launch_Site</th>\n",
       "      <th>Payload</th>\n",
       "      <th>PAYLOAD_MASS__KG_</th>\n",
       "      <th>Orbit</th>\n",
       "      <th>Customer</th>\n",
       "      <th>Mission_Outcome</th>\n",
       "      <th>Landing _Outcome</th>\n",
       "    </tr>\n",
       "  </thead>\n",
       "  <tbody>\n",
       "    <tr>\n",
       "      <th>0</th>\n",
       "      <td>04-06-2010</td>\n",
       "      <td>18:45:00</td>\n",
       "      <td>F9 v1.0  B0003</td>\n",
       "      <td>CCAFS LC-40</td>\n",
       "      <td>Dragon Spacecraft Qualification Unit</td>\n",
       "      <td>0</td>\n",
       "      <td>LEO</td>\n",
       "      <td>SpaceX</td>\n",
       "      <td>Success</td>\n",
       "      <td>Failure (parachute)</td>\n",
       "    </tr>\n",
       "    <tr>\n",
       "      <th>1</th>\n",
       "      <td>08-12-2010</td>\n",
       "      <td>15:43:00</td>\n",
       "      <td>F9 v1.0  B0004</td>\n",
       "      <td>CCAFS LC-40</td>\n",
       "      <td>Dragon demo flight C1, two CubeSats, barrel of...</td>\n",
       "      <td>0</td>\n",
       "      <td>LEO (ISS)</td>\n",
       "      <td>NASA (COTS) NRO</td>\n",
       "      <td>Success</td>\n",
       "      <td>Failure (parachute)</td>\n",
       "    </tr>\n",
       "    <tr>\n",
       "      <th>2</th>\n",
       "      <td>22-05-2012</td>\n",
       "      <td>07:44:00</td>\n",
       "      <td>F9 v1.0  B0005</td>\n",
       "      <td>CCAFS LC-40</td>\n",
       "      <td>Dragon demo flight C2</td>\n",
       "      <td>525</td>\n",
       "      <td>LEO (ISS)</td>\n",
       "      <td>NASA (COTS)</td>\n",
       "      <td>Success</td>\n",
       "      <td>No attempt</td>\n",
       "    </tr>\n",
       "    <tr>\n",
       "      <th>3</th>\n",
       "      <td>08-10-2012</td>\n",
       "      <td>00:35:00</td>\n",
       "      <td>F9 v1.0  B0006</td>\n",
       "      <td>CCAFS LC-40</td>\n",
       "      <td>SpaceX CRS-1</td>\n",
       "      <td>500</td>\n",
       "      <td>LEO (ISS)</td>\n",
       "      <td>NASA (CRS)</td>\n",
       "      <td>Success</td>\n",
       "      <td>No attempt</td>\n",
       "    </tr>\n",
       "    <tr>\n",
       "      <th>4</th>\n",
       "      <td>01-03-2013</td>\n",
       "      <td>15:10:00</td>\n",
       "      <td>F9 v1.0  B0007</td>\n",
       "      <td>CCAFS LC-40</td>\n",
       "      <td>SpaceX CRS-2</td>\n",
       "      <td>677</td>\n",
       "      <td>LEO (ISS)</td>\n",
       "      <td>NASA (CRS)</td>\n",
       "      <td>Success</td>\n",
       "      <td>No attempt</td>\n",
       "    </tr>\n",
       "    <tr>\n",
       "      <th>5</th>\n",
       "      <td>29-09-2013</td>\n",
       "      <td>16:00:00</td>\n",
       "      <td>F9 v1.1  B1003</td>\n",
       "      <td>VAFB SLC-4E</td>\n",
       "      <td>CASSIOPE</td>\n",
       "      <td>500</td>\n",
       "      <td>Polar LEO</td>\n",
       "      <td>MDA</td>\n",
       "      <td>Success</td>\n",
       "      <td>Uncontrolled (ocean)</td>\n",
       "    </tr>\n",
       "    <tr>\n",
       "      <th>6</th>\n",
       "      <td>03-12-2013</td>\n",
       "      <td>22:41:00</td>\n",
       "      <td>F9 v1.1</td>\n",
       "      <td>CCAFS LC-40</td>\n",
       "      <td>SES-8</td>\n",
       "      <td>3170</td>\n",
       "      <td>GTO</td>\n",
       "      <td>SES</td>\n",
       "      <td>Success</td>\n",
       "      <td>No attempt</td>\n",
       "    </tr>\n",
       "    <tr>\n",
       "      <th>7</th>\n",
       "      <td>06-01-2014</td>\n",
       "      <td>22:06:00</td>\n",
       "      <td>F9 v1.1</td>\n",
       "      <td>CCAFS LC-40</td>\n",
       "      <td>Thaicom 6</td>\n",
       "      <td>3325</td>\n",
       "      <td>GTO</td>\n",
       "      <td>Thaicom</td>\n",
       "      <td>Success</td>\n",
       "      <td>No attempt</td>\n",
       "    </tr>\n",
       "    <tr>\n",
       "      <th>8</th>\n",
       "      <td>18-04-2014</td>\n",
       "      <td>19:25:00</td>\n",
       "      <td>F9 v1.1</td>\n",
       "      <td>CCAFS LC-40</td>\n",
       "      <td>SpaceX CRS-3</td>\n",
       "      <td>2296</td>\n",
       "      <td>LEO (ISS)</td>\n",
       "      <td>NASA (CRS)</td>\n",
       "      <td>Success</td>\n",
       "      <td>Controlled (ocean)</td>\n",
       "    </tr>\n",
       "    <tr>\n",
       "      <th>9</th>\n",
       "      <td>14-07-2014</td>\n",
       "      <td>15:15:00</td>\n",
       "      <td>F9 v1.1</td>\n",
       "      <td>CCAFS LC-40</td>\n",
       "      <td>OG2 Mission 1  6 Orbcomm-OG2 satellites</td>\n",
       "      <td>1316</td>\n",
       "      <td>LEO</td>\n",
       "      <td>Orbcomm</td>\n",
       "      <td>Success</td>\n",
       "      <td>Controlled (ocean)</td>\n",
       "    </tr>\n",
       "  </tbody>\n",
       "</table>\n",
       "</div>"
      ],
      "text/plain": [
       "         Date Time (UTC) Booster_Version  Launch_Site  \\\n",
       "0  04-06-2010   18:45:00  F9 v1.0  B0003  CCAFS LC-40   \n",
       "1  08-12-2010   15:43:00  F9 v1.0  B0004  CCAFS LC-40   \n",
       "2  22-05-2012   07:44:00  F9 v1.0  B0005  CCAFS LC-40   \n",
       "3  08-10-2012   00:35:00  F9 v1.0  B0006  CCAFS LC-40   \n",
       "4  01-03-2013   15:10:00  F9 v1.0  B0007  CCAFS LC-40   \n",
       "5  29-09-2013   16:00:00  F9 v1.1  B1003  VAFB SLC-4E   \n",
       "6  03-12-2013   22:41:00         F9 v1.1  CCAFS LC-40   \n",
       "7  06-01-2014   22:06:00         F9 v1.1  CCAFS LC-40   \n",
       "8  18-04-2014   19:25:00         F9 v1.1  CCAFS LC-40   \n",
       "9  14-07-2014   15:15:00         F9 v1.1  CCAFS LC-40   \n",
       "\n",
       "                                             Payload  PAYLOAD_MASS__KG_  \\\n",
       "0               Dragon Spacecraft Qualification Unit                  0   \n",
       "1  Dragon demo flight C1, two CubeSats, barrel of...                  0   \n",
       "2                              Dragon demo flight C2                525   \n",
       "3                                       SpaceX CRS-1                500   \n",
       "4                                       SpaceX CRS-2                677   \n",
       "5                                           CASSIOPE                500   \n",
       "6                                              SES-8               3170   \n",
       "7                                          Thaicom 6               3325   \n",
       "8                                       SpaceX CRS-3               2296   \n",
       "9            OG2 Mission 1  6 Orbcomm-OG2 satellites               1316   \n",
       "\n",
       "       Orbit         Customer Mission_Outcome      Landing _Outcome  \n",
       "0        LEO           SpaceX         Success   Failure (parachute)  \n",
       "1  LEO (ISS)  NASA (COTS) NRO         Success   Failure (parachute)  \n",
       "2  LEO (ISS)      NASA (COTS)         Success            No attempt  \n",
       "3  LEO (ISS)       NASA (CRS)         Success            No attempt  \n",
       "4  LEO (ISS)       NASA (CRS)         Success            No attempt  \n",
       "5  Polar LEO              MDA         Success  Uncontrolled (ocean)  \n",
       "6        GTO              SES         Success            No attempt  \n",
       "7        GTO          Thaicom         Success            No attempt  \n",
       "8  LEO (ISS)       NASA (CRS)         Success    Controlled (ocean)  \n",
       "9        LEO          Orbcomm         Success    Controlled (ocean)  "
      ]
     },
     "execution_count": 1,
     "metadata": {},
     "output_type": "execute_result"
    }
   ],
   "source": [
    "import pandas as pd\n",
    "import numpy as np\n",
    "dfSX=pd.read_csv('Spacex.csv')\n",
    "dfSX.head(10)"
   ]
  },
  {
   "cell_type": "code",
   "execution_count": 20,
   "metadata": {},
   "outputs": [
    {
     "data": {
      "text/plain": [
       "Date                 object\n",
       "Time (UTC)           object\n",
       "Booster_Version      object\n",
       "Launch_Site          object\n",
       "Payload              object\n",
       "PAYLOAD_MASS__KG_     int64\n",
       "Orbit                object\n",
       "Customer             object\n",
       "Mission_Outcome      object\n",
       "Landing _Outcome     object\n",
       "dtype: object"
      ]
     },
     "execution_count": 20,
     "metadata": {},
     "output_type": "execute_result"
    }
   ],
   "source": [
    "dfSX.dtypes"
   ]
  },
  {
   "cell_type": "code",
   "execution_count": 2,
   "metadata": {},
   "outputs": [
    {
     "data": {
      "text/html": [
       "<div>\n",
       "<style scoped>\n",
       "    .dataframe tbody tr th:only-of-type {\n",
       "        vertical-align: middle;\n",
       "    }\n",
       "\n",
       "    .dataframe tbody tr th {\n",
       "        vertical-align: top;\n",
       "    }\n",
       "\n",
       "    .dataframe thead th {\n",
       "        text-align: right;\n",
       "    }\n",
       "</style>\n",
       "<table border=\"1\" class=\"dataframe\">\n",
       "  <thead>\n",
       "    <tr style=\"text-align: right;\">\n",
       "      <th></th>\n",
       "      <th>Flight No.</th>\n",
       "      <th>Launch site</th>\n",
       "      <th>Payload</th>\n",
       "      <th>Payload mass</th>\n",
       "      <th>Orbit</th>\n",
       "      <th>Customer</th>\n",
       "      <th>Launch outcome</th>\n",
       "      <th>Version Booster</th>\n",
       "      <th>Booster landing</th>\n",
       "      <th>Date</th>\n",
       "      <th>Time</th>\n",
       "    </tr>\n",
       "  </thead>\n",
       "  <tbody>\n",
       "    <tr>\n",
       "      <th>0</th>\n",
       "      <td>1</td>\n",
       "      <td>CCAFS</td>\n",
       "      <td>Dragon Spacecraft Qualification Unit</td>\n",
       "      <td>0</td>\n",
       "      <td>LEO</td>\n",
       "      <td>SpaceX</td>\n",
       "      <td>Success\\n</td>\n",
       "      <td>F9 v1.0B0003.1</td>\n",
       "      <td>Failure</td>\n",
       "      <td>4 June 2010</td>\n",
       "      <td>18:45</td>\n",
       "    </tr>\n",
       "    <tr>\n",
       "      <th>1</th>\n",
       "      <td>2</td>\n",
       "      <td>CCAFS</td>\n",
       "      <td>Dragon</td>\n",
       "      <td>0</td>\n",
       "      <td>LEO</td>\n",
       "      <td>NASA</td>\n",
       "      <td>Success</td>\n",
       "      <td>F9 v1.0B0004.1</td>\n",
       "      <td>Failure</td>\n",
       "      <td>8 December 2010</td>\n",
       "      <td>15:43</td>\n",
       "    </tr>\n",
       "    <tr>\n",
       "      <th>2</th>\n",
       "      <td>3</td>\n",
       "      <td>CCAFS</td>\n",
       "      <td>Dragon</td>\n",
       "      <td>525 kg</td>\n",
       "      <td>LEO</td>\n",
       "      <td>NASA</td>\n",
       "      <td>Success</td>\n",
       "      <td>F9 v1.0B0005.1</td>\n",
       "      <td>No attempt\\n</td>\n",
       "      <td>22 May 2012</td>\n",
       "      <td>07:44</td>\n",
       "    </tr>\n",
       "    <tr>\n",
       "      <th>3</th>\n",
       "      <td>4</td>\n",
       "      <td>CCAFS</td>\n",
       "      <td>SpaceX CRS-1</td>\n",
       "      <td>4,700 kg</td>\n",
       "      <td>LEO</td>\n",
       "      <td>NASA</td>\n",
       "      <td>Success\\n</td>\n",
       "      <td>F9 v1.0B0006.1</td>\n",
       "      <td>No attempt</td>\n",
       "      <td>8 October 2012</td>\n",
       "      <td>00:35</td>\n",
       "    </tr>\n",
       "    <tr>\n",
       "      <th>4</th>\n",
       "      <td>5</td>\n",
       "      <td>CCAFS</td>\n",
       "      <td>SpaceX CRS-2</td>\n",
       "      <td>4,877 kg</td>\n",
       "      <td>LEO</td>\n",
       "      <td>NASA</td>\n",
       "      <td>Success\\n</td>\n",
       "      <td>F9 v1.0B0007.1</td>\n",
       "      <td>No attempt\\n</td>\n",
       "      <td>1 March 2013</td>\n",
       "      <td>15:10</td>\n",
       "    </tr>\n",
       "    <tr>\n",
       "      <th>5</th>\n",
       "      <td>6</td>\n",
       "      <td>VAFB</td>\n",
       "      <td>CASSIOPE</td>\n",
       "      <td>500 kg</td>\n",
       "      <td>Polar orbit</td>\n",
       "      <td>MDA</td>\n",
       "      <td>Success</td>\n",
       "      <td>F9 v1.1B1003</td>\n",
       "      <td>Uncontrolled</td>\n",
       "      <td>29 September 2013</td>\n",
       "      <td>16:00</td>\n",
       "    </tr>\n",
       "    <tr>\n",
       "      <th>6</th>\n",
       "      <td>7</td>\n",
       "      <td>CCAFS</td>\n",
       "      <td>SES-8</td>\n",
       "      <td>3,170 kg</td>\n",
       "      <td>GTO</td>\n",
       "      <td>SES</td>\n",
       "      <td>Success</td>\n",
       "      <td>F9 v1.1</td>\n",
       "      <td>No attempt</td>\n",
       "      <td>3 December 2013</td>\n",
       "      <td>22:41</td>\n",
       "    </tr>\n",
       "    <tr>\n",
       "      <th>7</th>\n",
       "      <td>8</td>\n",
       "      <td>CCAFS</td>\n",
       "      <td>Thaicom 6</td>\n",
       "      <td>3,325 kg</td>\n",
       "      <td>GTO</td>\n",
       "      <td>Thaicom</td>\n",
       "      <td>Success</td>\n",
       "      <td>F9 v1.1</td>\n",
       "      <td>No attempt</td>\n",
       "      <td>6 January 2014</td>\n",
       "      <td>22:06</td>\n",
       "    </tr>\n",
       "    <tr>\n",
       "      <th>8</th>\n",
       "      <td>9</td>\n",
       "      <td>Cape Canaveral</td>\n",
       "      <td>SpaceX CRS-3</td>\n",
       "      <td>2,296 kg</td>\n",
       "      <td>LEO</td>\n",
       "      <td>NASA</td>\n",
       "      <td>Success\\n</td>\n",
       "      <td>F9 v1.1</td>\n",
       "      <td>Controlled</td>\n",
       "      <td>18 April 2014</td>\n",
       "      <td>19:25</td>\n",
       "    </tr>\n",
       "    <tr>\n",
       "      <th>9</th>\n",
       "      <td>10</td>\n",
       "      <td>Cape Canaveral</td>\n",
       "      <td>Orbcomm-OG2</td>\n",
       "      <td>1,316 kg</td>\n",
       "      <td>LEO</td>\n",
       "      <td>Orbcomm</td>\n",
       "      <td>Success</td>\n",
       "      <td>F9 v1.1</td>\n",
       "      <td>Controlled</td>\n",
       "      <td>14 July 2014</td>\n",
       "      <td>15:15</td>\n",
       "    </tr>\n",
       "  </tbody>\n",
       "</table>\n",
       "</div>"
      ],
      "text/plain": [
       "   Flight No.     Launch site                               Payload  \\\n",
       "0           1           CCAFS  Dragon Spacecraft Qualification Unit   \n",
       "1           2           CCAFS                                Dragon   \n",
       "2           3           CCAFS                                Dragon   \n",
       "3           4           CCAFS                          SpaceX CRS-1   \n",
       "4           5           CCAFS                          SpaceX CRS-2   \n",
       "5           6            VAFB                              CASSIOPE   \n",
       "6           7           CCAFS                                 SES-8   \n",
       "7           8           CCAFS                             Thaicom 6   \n",
       "8           9  Cape Canaveral                          SpaceX CRS-3   \n",
       "9          10  Cape Canaveral                           Orbcomm-OG2   \n",
       "\n",
       "  Payload mass        Orbit Customer Launch outcome Version Booster  \\\n",
       "0            0          LEO   SpaceX      Success\\n  F9 v1.0B0003.1   \n",
       "1            0          LEO     NASA        Success  F9 v1.0B0004.1   \n",
       "2       525 kg          LEO     NASA        Success  F9 v1.0B0005.1   \n",
       "3     4,700 kg          LEO     NASA      Success\\n  F9 v1.0B0006.1   \n",
       "4     4,877 kg          LEO     NASA      Success\\n  F9 v1.0B0007.1   \n",
       "5       500 kg  Polar orbit      MDA        Success    F9 v1.1B1003   \n",
       "6     3,170 kg          GTO      SES        Success         F9 v1.1   \n",
       "7     3,325 kg          GTO  Thaicom        Success         F9 v1.1   \n",
       "8     2,296 kg          LEO     NASA      Success\\n         F9 v1.1   \n",
       "9     1,316 kg          LEO  Orbcomm        Success         F9 v1.1   \n",
       "\n",
       "  Booster landing               Date   Time  \n",
       "0         Failure        4 June 2010  18:45  \n",
       "1         Failure    8 December 2010  15:43  \n",
       "2    No attempt\\n        22 May 2012  07:44  \n",
       "3      No attempt     8 October 2012  00:35  \n",
       "4    No attempt\\n       1 March 2013  15:10  \n",
       "5    Uncontrolled  29 September 2013  16:00  \n",
       "6      No attempt    3 December 2013  22:41  \n",
       "7      No attempt     6 January 2014  22:06  \n",
       "8      Controlled      18 April 2014  19:25  \n",
       "9      Controlled       14 July 2014  15:15  "
      ]
     },
     "execution_count": 2,
     "metadata": {},
     "output_type": "execute_result"
    }
   ],
   "source": [
    "dfSXmy=pd.read_csv('spacex_web_scraped.csv')\n",
    "dfSXmy.head(10)"
   ]
  },
  {
   "cell_type": "code",
   "execution_count": 4,
   "metadata": {},
   "outputs": [
    {
     "data": {
      "text/html": [
       "<div>\n",
       "<style scoped>\n",
       "    .dataframe tbody tr th:only-of-type {\n",
       "        vertical-align: middle;\n",
       "    }\n",
       "\n",
       "    .dataframe tbody tr th {\n",
       "        vertical-align: top;\n",
       "    }\n",
       "\n",
       "    .dataframe thead th {\n",
       "        text-align: right;\n",
       "    }\n",
       "</style>\n",
       "<table border=\"1\" class=\"dataframe\">\n",
       "  <thead>\n",
       "    <tr style=\"text-align: right;\">\n",
       "      <th></th>\n",
       "      <th>Flight No.</th>\n",
       "      <th>Launch site</th>\n",
       "      <th>Payload</th>\n",
       "      <th>Payload mass</th>\n",
       "      <th>Orbit</th>\n",
       "      <th>Customer</th>\n",
       "      <th>Launch outcome</th>\n",
       "      <th>Version Booster</th>\n",
       "      <th>Booster landing</th>\n",
       "      <th>Date</th>\n",
       "      <th>Time</th>\n",
       "    </tr>\n",
       "  </thead>\n",
       "  <tbody>\n",
       "    <tr>\n",
       "      <th>0</th>\n",
       "      <td>1</td>\n",
       "      <td>CCAFS</td>\n",
       "      <td>Dragon Spacecraft Qualification Unit</td>\n",
       "      <td>0</td>\n",
       "      <td>LEO</td>\n",
       "      <td>SpaceX</td>\n",
       "      <td>Success</td>\n",
       "      <td>F9 v1.0B0003.1</td>\n",
       "      <td>Failure</td>\n",
       "      <td>4 June 2010</td>\n",
       "      <td>18:45</td>\n",
       "    </tr>\n",
       "    <tr>\n",
       "      <th>1</th>\n",
       "      <td>2</td>\n",
       "      <td>CCAFS</td>\n",
       "      <td>Dragon</td>\n",
       "      <td>0</td>\n",
       "      <td>LEO</td>\n",
       "      <td>NASA</td>\n",
       "      <td>Success</td>\n",
       "      <td>F9 v1.0B0004.1</td>\n",
       "      <td>Failure</td>\n",
       "      <td>8 December 2010</td>\n",
       "      <td>15:43</td>\n",
       "    </tr>\n",
       "    <tr>\n",
       "      <th>2</th>\n",
       "      <td>3</td>\n",
       "      <td>CCAFS</td>\n",
       "      <td>Dragon</td>\n",
       "      <td>525</td>\n",
       "      <td>LEO</td>\n",
       "      <td>NASA</td>\n",
       "      <td>Success</td>\n",
       "      <td>F9 v1.0B0005.1</td>\n",
       "      <td>No attempt\\n</td>\n",
       "      <td>22 May 2012</td>\n",
       "      <td>07:44</td>\n",
       "    </tr>\n",
       "    <tr>\n",
       "      <th>3</th>\n",
       "      <td>4</td>\n",
       "      <td>CCAFS</td>\n",
       "      <td>SpaceX CRS-1</td>\n",
       "      <td>4,700</td>\n",
       "      <td>LEO</td>\n",
       "      <td>NASA</td>\n",
       "      <td>Success</td>\n",
       "      <td>F9 v1.0B0006.1</td>\n",
       "      <td>No attempt</td>\n",
       "      <td>8 October 2012</td>\n",
       "      <td>00:35</td>\n",
       "    </tr>\n",
       "    <tr>\n",
       "      <th>4</th>\n",
       "      <td>5</td>\n",
       "      <td>CCAFS</td>\n",
       "      <td>SpaceX CRS-2</td>\n",
       "      <td>4,877</td>\n",
       "      <td>LEO</td>\n",
       "      <td>NASA</td>\n",
       "      <td>Success</td>\n",
       "      <td>F9 v1.0B0007.1</td>\n",
       "      <td>No attempt\\n</td>\n",
       "      <td>1 March 2013</td>\n",
       "      <td>15:10</td>\n",
       "    </tr>\n",
       "    <tr>\n",
       "      <th>5</th>\n",
       "      <td>6</td>\n",
       "      <td>VAFB</td>\n",
       "      <td>CASSIOPE</td>\n",
       "      <td>500</td>\n",
       "      <td>Polar orbit</td>\n",
       "      <td>MDA</td>\n",
       "      <td>Success</td>\n",
       "      <td>F9 v1.1B1003</td>\n",
       "      <td>Uncontrolled</td>\n",
       "      <td>29 September 2013</td>\n",
       "      <td>16:00</td>\n",
       "    </tr>\n",
       "    <tr>\n",
       "      <th>6</th>\n",
       "      <td>7</td>\n",
       "      <td>CCAFS</td>\n",
       "      <td>SES-8</td>\n",
       "      <td>3,170</td>\n",
       "      <td>GTO</td>\n",
       "      <td>SES</td>\n",
       "      <td>Success</td>\n",
       "      <td>F9 v1.1</td>\n",
       "      <td>No attempt</td>\n",
       "      <td>3 December 2013</td>\n",
       "      <td>22:41</td>\n",
       "    </tr>\n",
       "    <tr>\n",
       "      <th>7</th>\n",
       "      <td>8</td>\n",
       "      <td>CCAFS</td>\n",
       "      <td>Thaicom 6</td>\n",
       "      <td>3,325</td>\n",
       "      <td>GTO</td>\n",
       "      <td>Thaicom</td>\n",
       "      <td>Success</td>\n",
       "      <td>F9 v1.1</td>\n",
       "      <td>No attempt</td>\n",
       "      <td>6 January 2014</td>\n",
       "      <td>22:06</td>\n",
       "    </tr>\n",
       "    <tr>\n",
       "      <th>8</th>\n",
       "      <td>9</td>\n",
       "      <td>Cape Canaveral</td>\n",
       "      <td>SpaceX CRS-3</td>\n",
       "      <td>2,296</td>\n",
       "      <td>LEO</td>\n",
       "      <td>NASA</td>\n",
       "      <td>Success</td>\n",
       "      <td>F9 v1.1</td>\n",
       "      <td>Controlled</td>\n",
       "      <td>18 April 2014</td>\n",
       "      <td>19:25</td>\n",
       "    </tr>\n",
       "    <tr>\n",
       "      <th>9</th>\n",
       "      <td>10</td>\n",
       "      <td>Cape Canaveral</td>\n",
       "      <td>Orbcomm-OG2</td>\n",
       "      <td>1,316</td>\n",
       "      <td>LEO</td>\n",
       "      <td>Orbcomm</td>\n",
       "      <td>Success</td>\n",
       "      <td>F9 v1.1</td>\n",
       "      <td>Controlled</td>\n",
       "      <td>14 July 2014</td>\n",
       "      <td>15:15</td>\n",
       "    </tr>\n",
       "  </tbody>\n",
       "</table>\n",
       "</div>"
      ],
      "text/plain": [
       "   Flight No.     Launch site                               Payload  \\\n",
       "0           1           CCAFS  Dragon Spacecraft Qualification Unit   \n",
       "1           2           CCAFS                                Dragon   \n",
       "2           3           CCAFS                                Dragon   \n",
       "3           4           CCAFS                          SpaceX CRS-1   \n",
       "4           5           CCAFS                          SpaceX CRS-2   \n",
       "5           6            VAFB                              CASSIOPE   \n",
       "6           7           CCAFS                                 SES-8   \n",
       "7           8           CCAFS                             Thaicom 6   \n",
       "8           9  Cape Canaveral                          SpaceX CRS-3   \n",
       "9          10  Cape Canaveral                           Orbcomm-OG2   \n",
       "\n",
       "  Payload mass        Orbit Customer Launch outcome Version Booster  \\\n",
       "0            0          LEO   SpaceX        Success  F9 v1.0B0003.1   \n",
       "1            0          LEO     NASA        Success  F9 v1.0B0004.1   \n",
       "2          525          LEO     NASA        Success  F9 v1.0B0005.1   \n",
       "3        4,700          LEO     NASA        Success  F9 v1.0B0006.1   \n",
       "4        4,877          LEO     NASA        Success  F9 v1.0B0007.1   \n",
       "5          500  Polar orbit      MDA        Success    F9 v1.1B1003   \n",
       "6        3,170          GTO      SES        Success         F9 v1.1   \n",
       "7        3,325          GTO  Thaicom        Success         F9 v1.1   \n",
       "8        2,296          LEO     NASA        Success         F9 v1.1   \n",
       "9        1,316          LEO  Orbcomm        Success         F9 v1.1   \n",
       "\n",
       "  Booster landing               Date   Time  \n",
       "0         Failure        4 June 2010  18:45  \n",
       "1         Failure    8 December 2010  15:43  \n",
       "2    No attempt\\n        22 May 2012  07:44  \n",
       "3      No attempt     8 October 2012  00:35  \n",
       "4    No attempt\\n       1 March 2013  15:10  \n",
       "5    Uncontrolled  29 September 2013  16:00  \n",
       "6      No attempt    3 December 2013  22:41  \n",
       "7      No attempt     6 January 2014  22:06  \n",
       "8      Controlled      18 April 2014  19:25  \n",
       "9      Controlled       14 July 2014  15:15  "
      ]
     },
     "execution_count": 4,
     "metadata": {},
     "output_type": "execute_result"
    }
   ],
   "source": [
    "dfSXmy['Launch outcome'] = dfSXmy['Launch outcome'].map(lambda x: x.rstrip('\\n'))\n",
    "dfSXmy['Payload mass'] = dfSXmy['Payload mass'].map(lambda x: x.rstrip(' kg'))\n",
    "dfSXmy.head(10)"
   ]
  },
  {
   "cell_type": "code",
   "execution_count": 6,
   "metadata": {},
   "outputs": [
    {
     "data": {
      "text/plain": [
       "Flight No.          int64\n",
       "Launch site        object\n",
       "Payload            object\n",
       "Payload mass       object\n",
       "Orbit              object\n",
       "Customer           object\n",
       "Launch outcome     object\n",
       "Version Booster    object\n",
       "Booster landing    object\n",
       "Date               object\n",
       "Time               object\n",
       "dtype: object"
      ]
     },
     "execution_count": 6,
     "metadata": {},
     "output_type": "execute_result"
    }
   ],
   "source": [
    "dfSXmy.dtypes"
   ]
  },
  {
   "cell_type": "code",
   "execution_count": 10,
   "metadata": {},
   "outputs": [],
   "source": [
    "dfSXmy['Date']=pd.to_datetime(dfSXmy['Date'])"
   ]
  },
  {
   "cell_type": "code",
   "execution_count": 19,
   "metadata": {},
   "outputs": [
    {
     "data": {
      "text/html": [
       "<div>\n",
       "<style scoped>\n",
       "    .dataframe tbody tr th:only-of-type {\n",
       "        vertical-align: middle;\n",
       "    }\n",
       "\n",
       "    .dataframe tbody tr th {\n",
       "        vertical-align: top;\n",
       "    }\n",
       "\n",
       "    .dataframe thead th {\n",
       "        text-align: right;\n",
       "    }\n",
       "</style>\n",
       "<table border=\"1\" class=\"dataframe\">\n",
       "  <thead>\n",
       "    <tr style=\"text-align: right;\">\n",
       "      <th></th>\n",
       "      <th>Flight No.</th>\n",
       "      <th>Launch site</th>\n",
       "      <th>Payload</th>\n",
       "      <th>Payload mass</th>\n",
       "      <th>Orbit</th>\n",
       "      <th>Customer</th>\n",
       "      <th>Launch outcome</th>\n",
       "      <th>Version Booster</th>\n",
       "      <th>Booster landing</th>\n",
       "      <th>Date</th>\n",
       "      <th>Time</th>\n",
       "    </tr>\n",
       "  </thead>\n",
       "  <tbody>\n",
       "    <tr>\n",
       "      <th>0</th>\n",
       "      <td>1</td>\n",
       "      <td>CCAFS</td>\n",
       "      <td>Dragon Spacecraft Qualification Unit</td>\n",
       "      <td>0</td>\n",
       "      <td>LEO</td>\n",
       "      <td>SpaceX</td>\n",
       "      <td>Success</td>\n",
       "      <td>F9 v1.0B0003.1</td>\n",
       "      <td>Failure</td>\n",
       "      <td>2010-06-04</td>\n",
       "      <td>18:45</td>\n",
       "    </tr>\n",
       "    <tr>\n",
       "      <th>1</th>\n",
       "      <td>2</td>\n",
       "      <td>CCAFS</td>\n",
       "      <td>Dragon</td>\n",
       "      <td>0</td>\n",
       "      <td>LEO</td>\n",
       "      <td>NASA</td>\n",
       "      <td>Success</td>\n",
       "      <td>F9 v1.0B0004.1</td>\n",
       "      <td>Failure</td>\n",
       "      <td>2010-12-08</td>\n",
       "      <td>15:43</td>\n",
       "    </tr>\n",
       "    <tr>\n",
       "      <th>2</th>\n",
       "      <td>3</td>\n",
       "      <td>CCAFS</td>\n",
       "      <td>Dragon</td>\n",
       "      <td>525</td>\n",
       "      <td>LEO</td>\n",
       "      <td>NASA</td>\n",
       "      <td>Success</td>\n",
       "      <td>F9 v1.0B0005.1</td>\n",
       "      <td>No attempt\\n</td>\n",
       "      <td>2012-05-22</td>\n",
       "      <td>07:44</td>\n",
       "    </tr>\n",
       "    <tr>\n",
       "      <th>3</th>\n",
       "      <td>4</td>\n",
       "      <td>CCAFS</td>\n",
       "      <td>SpaceX CRS-1</td>\n",
       "      <td>4,700</td>\n",
       "      <td>LEO</td>\n",
       "      <td>NASA</td>\n",
       "      <td>Success</td>\n",
       "      <td>F9 v1.0B0006.1</td>\n",
       "      <td>No attempt</td>\n",
       "      <td>2012-10-08</td>\n",
       "      <td>00:35</td>\n",
       "    </tr>\n",
       "    <tr>\n",
       "      <th>4</th>\n",
       "      <td>5</td>\n",
       "      <td>CCAFS</td>\n",
       "      <td>SpaceX CRS-2</td>\n",
       "      <td>4,877</td>\n",
       "      <td>LEO</td>\n",
       "      <td>NASA</td>\n",
       "      <td>Success</td>\n",
       "      <td>F9 v1.0B0007.1</td>\n",
       "      <td>No attempt\\n</td>\n",
       "      <td>2013-03-01</td>\n",
       "      <td>15:10</td>\n",
       "    </tr>\n",
       "    <tr>\n",
       "      <th>5</th>\n",
       "      <td>6</td>\n",
       "      <td>VAFB</td>\n",
       "      <td>CASSIOPE</td>\n",
       "      <td>500</td>\n",
       "      <td>Polar orbit</td>\n",
       "      <td>MDA</td>\n",
       "      <td>Success</td>\n",
       "      <td>F9 v1.1B1003</td>\n",
       "      <td>Uncontrolled</td>\n",
       "      <td>2013-09-29</td>\n",
       "      <td>16:00</td>\n",
       "    </tr>\n",
       "    <tr>\n",
       "      <th>6</th>\n",
       "      <td>7</td>\n",
       "      <td>CCAFS</td>\n",
       "      <td>SES-8</td>\n",
       "      <td>3,170</td>\n",
       "      <td>GTO</td>\n",
       "      <td>SES</td>\n",
       "      <td>Success</td>\n",
       "      <td>F9 v1.1</td>\n",
       "      <td>No attempt</td>\n",
       "      <td>2013-12-03</td>\n",
       "      <td>22:41</td>\n",
       "    </tr>\n",
       "    <tr>\n",
       "      <th>7</th>\n",
       "      <td>8</td>\n",
       "      <td>CCAFS</td>\n",
       "      <td>Thaicom 6</td>\n",
       "      <td>3,325</td>\n",
       "      <td>GTO</td>\n",
       "      <td>Thaicom</td>\n",
       "      <td>Success</td>\n",
       "      <td>F9 v1.1</td>\n",
       "      <td>No attempt</td>\n",
       "      <td>2014-01-06</td>\n",
       "      <td>22:06</td>\n",
       "    </tr>\n",
       "    <tr>\n",
       "      <th>8</th>\n",
       "      <td>9</td>\n",
       "      <td>Cape Canaveral</td>\n",
       "      <td>SpaceX CRS-3</td>\n",
       "      <td>2,296</td>\n",
       "      <td>LEO</td>\n",
       "      <td>NASA</td>\n",
       "      <td>Success</td>\n",
       "      <td>F9 v1.1</td>\n",
       "      <td>Controlled</td>\n",
       "      <td>2014-04-18</td>\n",
       "      <td>19:25</td>\n",
       "    </tr>\n",
       "    <tr>\n",
       "      <th>9</th>\n",
       "      <td>10</td>\n",
       "      <td>Cape Canaveral</td>\n",
       "      <td>Orbcomm-OG2</td>\n",
       "      <td>1,316</td>\n",
       "      <td>LEO</td>\n",
       "      <td>Orbcomm</td>\n",
       "      <td>Success</td>\n",
       "      <td>F9 v1.1</td>\n",
       "      <td>Controlled</td>\n",
       "      <td>2014-07-14</td>\n",
       "      <td>15:15</td>\n",
       "    </tr>\n",
       "  </tbody>\n",
       "</table>\n",
       "</div>"
      ],
      "text/plain": [
       "   Flight No.     Launch site                               Payload  \\\n",
       "0           1           CCAFS  Dragon Spacecraft Qualification Unit   \n",
       "1           2           CCAFS                                Dragon   \n",
       "2           3           CCAFS                                Dragon   \n",
       "3           4           CCAFS                          SpaceX CRS-1   \n",
       "4           5           CCAFS                          SpaceX CRS-2   \n",
       "5           6            VAFB                              CASSIOPE   \n",
       "6           7           CCAFS                                 SES-8   \n",
       "7           8           CCAFS                             Thaicom 6   \n",
       "8           9  Cape Canaveral                          SpaceX CRS-3   \n",
       "9          10  Cape Canaveral                           Orbcomm-OG2   \n",
       "\n",
       "  Payload mass        Orbit Customer Launch outcome Version Booster  \\\n",
       "0            0          LEO   SpaceX        Success  F9 v1.0B0003.1   \n",
       "1            0          LEO     NASA        Success  F9 v1.0B0004.1   \n",
       "2          525          LEO     NASA        Success  F9 v1.0B0005.1   \n",
       "3        4,700          LEO     NASA        Success  F9 v1.0B0006.1   \n",
       "4        4,877          LEO     NASA        Success  F9 v1.0B0007.1   \n",
       "5          500  Polar orbit      MDA        Success    F9 v1.1B1003   \n",
       "6        3,170          GTO      SES        Success         F9 v1.1   \n",
       "7        3,325          GTO  Thaicom        Success         F9 v1.1   \n",
       "8        2,296          LEO     NASA        Success         F9 v1.1   \n",
       "9        1,316          LEO  Orbcomm        Success         F9 v1.1   \n",
       "\n",
       "  Booster landing       Date   Time  \n",
       "0         Failure 2010-06-04  18:45  \n",
       "1         Failure 2010-12-08  15:43  \n",
       "2    No attempt\\n 2012-05-22  07:44  \n",
       "3      No attempt 2012-10-08  00:35  \n",
       "4    No attempt\\n 2013-03-01  15:10  \n",
       "5    Uncontrolled 2013-09-29  16:00  \n",
       "6      No attempt 2013-12-03  22:41  \n",
       "7      No attempt 2014-01-06  22:06  \n",
       "8      Controlled 2014-04-18  19:25  \n",
       "9      Controlled 2014-07-14  15:15  "
      ]
     },
     "execution_count": 19,
     "metadata": {},
     "output_type": "execute_result"
    }
   ],
   "source": [
    "dfSXmy['Payload mass']=dfSXmy['Payload mass'].astype(str)\n",
    "dfSXmy['Payload mass']=dfSXmy['Payload mass'].replace(',','') #didn't work\n",
    "\n",
    "dfSXmy.head(10)"
   ]
  },
  {
   "cell_type": "markdown",
   "metadata": {},
   "source": [
    "**Changes to be considered when having DB2 instance with the new UI having Go to UI screen**\n",
    "\n",
    "*   Refer to this insruction in this <a href=\"https://cf-courses-data.s3.us.cloud-object-storage.appdomain.cloud/IBMDeveloperSkillsNetwork-DB0201EN-SkillsNetwork/labs/Labs_Coursera_V5/labs/Lab%20-%20Sign%20up%20for%20IBM%20Cloud%20-%20Create%20Db2%20service%20instance%20-%20Get%20started%20with%20the%20Db2%20console/instructional-labs.md.html?utm_medium=Exinfluencer&utm_source=Exinfluencer&utm_content=000026UJ&utm_term=10006555&utm_id=NA-SkillsNetwork-Channel-SkillsNetworkCoursesIBMDS0321ENSkillsNetwork26802033-2022-01-01\">link</a> for viewing  the new  Go to UI screen.\n",
    "\n",
    "*   Later click on **Data link(below SQL)**  in the Go to UI screen  and click on **Load Data** tab.\n",
    "\n",
    "*   Later browse for the downloaded spacex file.\n",
    "\n",
    "<img src=\"https://cf-courses-data.s3.us.cloud-object-storage.appdomain.cloud/IBM-DS0321EN-SkillsNetwork/labs/module_2/images/browsefile.png\" width=\"800\"/>\n",
    "\n",
    "*   Once done select the schema andload the file.\n",
    "\n",
    " <img src=\"https://cf-courses-data.s3.us.cloud-object-storage.appdomain.cloud/IBM-DS0321EN-SkillsNetwork/labs/module_2/images/spacexload3.png\" width=\"800\"/>\n"
   ]
  },
  {
   "cell_type": "code",
   "execution_count": null,
   "metadata": {},
   "outputs": [],
   "source": [
    "#!pip install sqlalchemy==1.3.9\n"
   ]
  },
  {
   "cell_type": "markdown",
   "metadata": {},
   "source": [
    "### Connect to the database\n",
    "\n",
    "Let us first load the SQL extension and establish a connection with the database\n"
   ]
  },
  {
   "cell_type": "code",
   "execution_count": 21,
   "metadata": {},
   "outputs": [],
   "source": [
    "%load_ext sql"
   ]
  },
  {
   "cell_type": "code",
   "execution_count": 22,
   "metadata": {},
   "outputs": [],
   "source": [
    "import csv, sqlite3\n",
    "\n",
    "con = sqlite3.connect(\"my_data1.db\")\n",
    "cur = con.cursor()"
   ]
  },
  {
   "cell_type": "code",
   "execution_count": null,
   "metadata": {},
   "outputs": [],
   "source": [
    "#!pip install -q pandas==1.1.5"
   ]
  },
  {
   "cell_type": "code",
   "execution_count": 23,
   "metadata": {},
   "outputs": [],
   "source": [
    "%sql sqlite:///my_data1.db"
   ]
  },
  {
   "cell_type": "code",
   "execution_count": 24,
   "metadata": {},
   "outputs": [
    {
     "name": "stderr",
     "output_type": "stream",
     "text": [
      "C:\\Python\\lib\\site-packages\\pandas\\core\\generic.py:2605: UserWarning: The spaces in these column names will not be changed. In pandas versions < 0.14, spaces were converted to underscores.\n",
      "  sql.to_sql(\n"
     ]
    }
   ],
   "source": [
    "import pandas as pd\n",
    "df = pd.read_csv(\"https://cf-courses-data.s3.us.cloud-object-storage.appdomain.cloud/IBM-DS0321EN-SkillsNetwork/labs/module_2/data/Spacex.csv\")\n",
    "df.to_sql(\"SPACEXTBL\", con, if_exists='replace', index=False,method=\"multi\")"
   ]
  },
  {
   "cell_type": "code",
   "execution_count": 25,
   "metadata": {},
   "outputs": [
    {
     "name": "stdout",
     "output_type": "stream",
     "text": [
      " * sqlite:///my_data1.db\n",
      "Done.\n"
     ]
    },
    {
     "data": {
      "text/html": [
       "<table>\n",
       "    <tr>\n",
       "        <th>Date</th>\n",
       "        <th>Time (UTC)</th>\n",
       "        <th>Booster_Version</th>\n",
       "        <th>Launch_Site</th>\n",
       "        <th>Payload</th>\n",
       "        <th>PAYLOAD_MASS__KG_</th>\n",
       "        <th>Orbit</th>\n",
       "        <th>Customer</th>\n",
       "        <th>Mission_Outcome</th>\n",
       "        <th>Landing _Outcome</th>\n",
       "    </tr>\n",
       "    <tr>\n",
       "        <td>04-06-2010</td>\n",
       "        <td>18:45:00</td>\n",
       "        <td>F9 v1.0  B0003</td>\n",
       "        <td>CCAFS LC-40</td>\n",
       "        <td>Dragon Spacecraft Qualification Unit</td>\n",
       "        <td>0</td>\n",
       "        <td>LEO</td>\n",
       "        <td>SpaceX</td>\n",
       "        <td>Success</td>\n",
       "        <td>Failure (parachute)</td>\n",
       "    </tr>\n",
       "    <tr>\n",
       "        <td>08-12-2010</td>\n",
       "        <td>15:43:00</td>\n",
       "        <td>F9 v1.0  B0004</td>\n",
       "        <td>CCAFS LC-40</td>\n",
       "        <td>Dragon demo flight C1, two CubeSats, barrel of Brouere cheese</td>\n",
       "        <td>0</td>\n",
       "        <td>LEO (ISS)</td>\n",
       "        <td>NASA (COTS) NRO</td>\n",
       "        <td>Success</td>\n",
       "        <td>Failure (parachute)</td>\n",
       "    </tr>\n",
       "    <tr>\n",
       "        <td>22-05-2012</td>\n",
       "        <td>07:44:00</td>\n",
       "        <td>F9 v1.0  B0005</td>\n",
       "        <td>CCAFS LC-40</td>\n",
       "        <td>Dragon demo flight C2</td>\n",
       "        <td>525</td>\n",
       "        <td>LEO (ISS)</td>\n",
       "        <td>NASA (COTS)</td>\n",
       "        <td>Success</td>\n",
       "        <td>No attempt</td>\n",
       "    </tr>\n",
       "    <tr>\n",
       "        <td>08-10-2012</td>\n",
       "        <td>00:35:00</td>\n",
       "        <td>F9 v1.0  B0006</td>\n",
       "        <td>CCAFS LC-40</td>\n",
       "        <td>SpaceX CRS-1</td>\n",
       "        <td>500</td>\n",
       "        <td>LEO (ISS)</td>\n",
       "        <td>NASA (CRS)</td>\n",
       "        <td>Success</td>\n",
       "        <td>No attempt</td>\n",
       "    </tr>\n",
       "    <tr>\n",
       "        <td>01-03-2013</td>\n",
       "        <td>15:10:00</td>\n",
       "        <td>F9 v1.0  B0007</td>\n",
       "        <td>CCAFS LC-40</td>\n",
       "        <td>SpaceX CRS-2</td>\n",
       "        <td>677</td>\n",
       "        <td>LEO (ISS)</td>\n",
       "        <td>NASA (CRS)</td>\n",
       "        <td>Success</td>\n",
       "        <td>No attempt</td>\n",
       "    </tr>\n",
       "</table>"
      ],
      "text/plain": [
       "[('04-06-2010', '18:45:00', 'F9 v1.0  B0003', 'CCAFS LC-40', 'Dragon Spacecraft Qualification Unit', 0, 'LEO', 'SpaceX', 'Success', 'Failure (parachute)'),\n",
       " ('08-12-2010', '15:43:00', 'F9 v1.0  B0004', 'CCAFS LC-40', 'Dragon demo flight C1, two CubeSats, barrel of Brouere cheese', 0, 'LEO (ISS)', 'NASA (COTS) NRO', 'Success', 'Failure (parachute)'),\n",
       " ('22-05-2012', '07:44:00', 'F9 v1.0  B0005', 'CCAFS LC-40', 'Dragon demo flight C2', 525, 'LEO (ISS)', 'NASA (COTS)', 'Success', 'No attempt'),\n",
       " ('08-10-2012', '00:35:00', 'F9 v1.0  B0006', 'CCAFS LC-40', 'SpaceX CRS-1', 500, 'LEO (ISS)', 'NASA (CRS)', 'Success', 'No attempt'),\n",
       " ('01-03-2013', '15:10:00', 'F9 v1.0  B0007', 'CCAFS LC-40', 'SpaceX CRS-2', 677, 'LEO (ISS)', 'NASA (CRS)', 'Success', 'No attempt')]"
      ]
     },
     "execution_count": 25,
     "metadata": {},
     "output_type": "execute_result"
    }
   ],
   "source": [
    "# type in your query to retrieve list of all tables in the database\n",
    "%sql SELECT * FROM SPACEXTBL limit 5;"
   ]
  },
  {
   "cell_type": "markdown",
   "metadata": {},
   "source": [
    "## Tasks\n",
    "\n",
    "Now write and execute SQL queries to solve the assignment tasks.\n",
    "\n",
    "**Note: If the column names are in mixed case enclose it in double quotes\n",
    "For Example \"Landing_Outcome\"**\n",
    "\n",
    "### Task 1\n",
    "\n",
    "##### Display the names of the unique launch sites  in the space mission\n"
   ]
  },
  {
   "cell_type": "code",
   "execution_count": 29,
   "metadata": {},
   "outputs": [
    {
     "name": "stdout",
     "output_type": "stream",
     "text": [
      " * sqlite:///my_data1.db\n",
      "Done.\n"
     ]
    },
    {
     "data": {
      "text/html": [
       "<table>\n",
       "    <tr>\n",
       "        <th>Launch_Site</th>\n",
       "    </tr>\n",
       "    <tr>\n",
       "        <td>CCAFS LC-40</td>\n",
       "    </tr>\n",
       "    <tr>\n",
       "        <td>VAFB SLC-4E</td>\n",
       "    </tr>\n",
       "    <tr>\n",
       "        <td>KSC LC-39A</td>\n",
       "    </tr>\n",
       "    <tr>\n",
       "        <td>CCAFS SLC-40</td>\n",
       "    </tr>\n",
       "</table>"
      ],
      "text/plain": [
       "[('CCAFS LC-40',), ('VAFB SLC-4E',), ('KSC LC-39A',), ('CCAFS SLC-40',)]"
      ]
     },
     "execution_count": 29,
     "metadata": {},
     "output_type": "execute_result"
    }
   ],
   "source": [
    "%sql SELECT DISTINCT(\"Launch_Site\") FROM SPACEXTBL;  "
   ]
  },
  {
   "cell_type": "markdown",
   "metadata": {},
   "source": [
    "### Task 2\n",
    "\n",
    "##### Display 5 records where launch sites begin with the string 'CCA'\n"
   ]
  },
  {
   "cell_type": "code",
   "execution_count": 52,
   "metadata": {},
   "outputs": [
    {
     "name": "stdout",
     "output_type": "stream",
     "text": [
      " * sqlite:///my_data1.db\n",
      "Done.\n"
     ]
    },
    {
     "data": {
      "text/html": [
       "<table>\n",
       "    <tr>\n",
       "        <th>Date</th>\n",
       "        <th>Time (UTC)</th>\n",
       "        <th>Booster_Version</th>\n",
       "        <th>Launch_Site</th>\n",
       "        <th>Payload</th>\n",
       "        <th>PAYLOAD_MASS__KG_</th>\n",
       "        <th>Orbit</th>\n",
       "        <th>Customer</th>\n",
       "        <th>Mission_Outcome</th>\n",
       "        <th>Landing _Outcome</th>\n",
       "    </tr>\n",
       "    <tr>\n",
       "        <td>04-06-2010</td>\n",
       "        <td>18:45:00</td>\n",
       "        <td>F9 v1.0  B0003</td>\n",
       "        <td>CCAFS LC-40</td>\n",
       "        <td>Dragon Spacecraft Qualification Unit</td>\n",
       "        <td>0</td>\n",
       "        <td>LEO</td>\n",
       "        <td>SpaceX</td>\n",
       "        <td>Success</td>\n",
       "        <td>Failure (parachute)</td>\n",
       "    </tr>\n",
       "    <tr>\n",
       "        <td>08-12-2010</td>\n",
       "        <td>15:43:00</td>\n",
       "        <td>F9 v1.0  B0004</td>\n",
       "        <td>CCAFS LC-40</td>\n",
       "        <td>Dragon demo flight C1, two CubeSats, barrel of Brouere cheese</td>\n",
       "        <td>0</td>\n",
       "        <td>LEO (ISS)</td>\n",
       "        <td>NASA (COTS) NRO</td>\n",
       "        <td>Success</td>\n",
       "        <td>Failure (parachute)</td>\n",
       "    </tr>\n",
       "    <tr>\n",
       "        <td>22-05-2012</td>\n",
       "        <td>07:44:00</td>\n",
       "        <td>F9 v1.0  B0005</td>\n",
       "        <td>CCAFS LC-40</td>\n",
       "        <td>Dragon demo flight C2</td>\n",
       "        <td>525</td>\n",
       "        <td>LEO (ISS)</td>\n",
       "        <td>NASA (COTS)</td>\n",
       "        <td>Success</td>\n",
       "        <td>No attempt</td>\n",
       "    </tr>\n",
       "    <tr>\n",
       "        <td>08-10-2012</td>\n",
       "        <td>00:35:00</td>\n",
       "        <td>F9 v1.0  B0006</td>\n",
       "        <td>CCAFS LC-40</td>\n",
       "        <td>SpaceX CRS-1</td>\n",
       "        <td>500</td>\n",
       "        <td>LEO (ISS)</td>\n",
       "        <td>NASA (CRS)</td>\n",
       "        <td>Success</td>\n",
       "        <td>No attempt</td>\n",
       "    </tr>\n",
       "    <tr>\n",
       "        <td>01-03-2013</td>\n",
       "        <td>15:10:00</td>\n",
       "        <td>F9 v1.0  B0007</td>\n",
       "        <td>CCAFS LC-40</td>\n",
       "        <td>SpaceX CRS-2</td>\n",
       "        <td>677</td>\n",
       "        <td>LEO (ISS)</td>\n",
       "        <td>NASA (CRS)</td>\n",
       "        <td>Success</td>\n",
       "        <td>No attempt</td>\n",
       "    </tr>\n",
       "</table>"
      ],
      "text/plain": [
       "[('04-06-2010', '18:45:00', 'F9 v1.0  B0003', 'CCAFS LC-40', 'Dragon Spacecraft Qualification Unit', 0, 'LEO', 'SpaceX', 'Success', 'Failure (parachute)'),\n",
       " ('08-12-2010', '15:43:00', 'F9 v1.0  B0004', 'CCAFS LC-40', 'Dragon demo flight C1, two CubeSats, barrel of Brouere cheese', 0, 'LEO (ISS)', 'NASA (COTS) NRO', 'Success', 'Failure (parachute)'),\n",
       " ('22-05-2012', '07:44:00', 'F9 v1.0  B0005', 'CCAFS LC-40', 'Dragon demo flight C2', 525, 'LEO (ISS)', 'NASA (COTS)', 'Success', 'No attempt'),\n",
       " ('08-10-2012', '00:35:00', 'F9 v1.0  B0006', 'CCAFS LC-40', 'SpaceX CRS-1', 500, 'LEO (ISS)', 'NASA (CRS)', 'Success', 'No attempt'),\n",
       " ('01-03-2013', '15:10:00', 'F9 v1.0  B0007', 'CCAFS LC-40', 'SpaceX CRS-2', 677, 'LEO (ISS)', 'NASA (CRS)', 'Success', 'No attempt')]"
      ]
     },
     "execution_count": 52,
     "metadata": {},
     "output_type": "execute_result"
    }
   ],
   "source": [
    "%sql SELECT * FROM SPACEXTBL WHERE \"Launch_Site\" LIKE '%CCA%' LIMIT 5;"
   ]
  },
  {
   "cell_type": "markdown",
   "metadata": {},
   "source": [
    "### Task 3\n",
    "\n",
    "##### Display the total payload mass carried by boosters launched by NASA (CRS)\n"
   ]
  },
  {
   "cell_type": "code",
   "execution_count": 40,
   "metadata": {},
   "outputs": [
    {
     "name": "stdout",
     "output_type": "stream",
     "text": [
      " * sqlite:///my_data1.db\n",
      "Done.\n"
     ]
    },
    {
     "data": {
      "text/html": [
       "<table>\n",
       "    <tr>\n",
       "        <th>Customer</th>\n",
       "        <th>Total_Payload</th>\n",
       "    </tr>\n",
       "    <tr>\n",
       "        <td>NASA (CRS)</td>\n",
       "        <td>45596</td>\n",
       "    </tr>\n",
       "</table>"
      ],
      "text/plain": [
       "[('NASA (CRS)', 45596)]"
      ]
     },
     "execution_count": 40,
     "metadata": {},
     "output_type": "execute_result"
    }
   ],
   "source": [
    "%sql SELECT \"Customer\", SUM(\"PAYLOAD_MASS__KG_\") AS \"Total_Payload\" FROM SPACEXTBL WHERE \"Customer\" LIKE 'NASA (CRS)';"
   ]
  },
  {
   "cell_type": "markdown",
   "metadata": {},
   "source": [
    "### Task 4\n",
    "\n",
    "##### Display average payload mass carried by booster version F9 v1.1\n"
   ]
  },
  {
   "cell_type": "code",
   "execution_count": 178,
   "metadata": {},
   "outputs": [
    {
     "name": "stdout",
     "output_type": "stream",
     "text": [
      " * sqlite:///my_data1.db\n",
      "Done.\n"
     ]
    },
    {
     "data": {
      "text/html": [
       "<table>\n",
       "    <tr>\n",
       "        <th>Booster_Version</th>\n",
       "        <th>Average_Payload</th>\n",
       "    </tr>\n",
       "    <tr>\n",
       "        <td>F9 v1.1</td>\n",
       "        <td>2928.4</td>\n",
       "    </tr>\n",
       "</table>"
      ],
      "text/plain": [
       "[('F9 v1.1', 2928.4)]"
      ]
     },
     "execution_count": 178,
     "metadata": {},
     "output_type": "execute_result"
    }
   ],
   "source": [
    "%sql SELECT \"Booster_Version\", AVG(\"PAYLOAD_MASS__KG_\") AS \"Average_Payload\" FROM SPACEXTBL \\\n",
    "WHERE \"Booster_Version\" LIKE 'F9 v1.1';"
   ]
  },
  {
   "cell_type": "markdown",
   "metadata": {},
   "source": [
    "### Task 5\n",
    "\n",
    "##### List the date when the first succesful landing outcome in ground pad was acheived.\n",
    "\n",
    "*Hint:Use min function*\n"
   ]
  },
  {
   "cell_type": "code",
   "execution_count": 177,
   "metadata": {},
   "outputs": [],
   "source": [
    "#%sql SELECT \"Date\", `Landing _Outcome` FROM SPACEXTBL WHERE `Landing _Outcome` LIKE 'Success (ground pad)' and \"Date\" \\\n",
    "#LIKE '%2015%' ORDER BY \"Date\" DESC"
   ]
  },
  {
   "cell_type": "code",
   "execution_count": 175,
   "metadata": {},
   "outputs": [],
   "source": [
    "# this code doesn't find minimum date:\n",
    "#%sql SELECT \"Date\", `Landing _Outcome` FROM SPACEXTBL WHERE `Landing _Outcome` LIKE 'Success (ground pad)' \\\n",
    "#AND \"Date\"=(SELECT MIN(\"Date\") FROM SPACEXTBL WHERE `Landing _Outcome` LIKE 'Success (ground pad)');"
   ]
  },
  {
   "cell_type": "code",
   "execution_count": 176,
   "metadata": {},
   "outputs": [
    {
     "name": "stdout",
     "output_type": "stream",
     "text": [
      " * sqlite:///my_data1.db\n",
      "Done.\n"
     ]
    },
    {
     "data": {
      "text/html": [
       "<table>\n",
       "    <tr>\n",
       "        <th>Date</th>\n",
       "        <th>Landing _Outcome</th>\n",
       "    </tr>\n",
       "    <tr>\n",
       "        <td>22-12-2015</td>\n",
       "        <td>Success (ground pad)</td>\n",
       "    </tr>\n",
       "</table>"
      ],
      "text/plain": [
       "[('22-12-2015', 'Success (ground pad)')]"
      ]
     },
     "execution_count": 176,
     "metadata": {},
     "output_type": "execute_result"
    }
   ],
   "source": [
    "# !!! landing Outcome has space in the name, that's why it's mandatory to use `` and not \"\" or ''  !!!\n",
    "\n",
    "%sql SELECT \"Date\", `Landing _Outcome` FROM SPACEXTBL WHERE `Landing _Outcome` LIKE 'Success%' ORDER BY date(\"Date\") ASC LIMIT 1;"
   ]
  },
  {
   "cell_type": "markdown",
   "metadata": {},
   "source": [
    "### Task 6\n",
    "\n",
    "##### List the names of the boosters which have success in drone ship and have payload mass greater than 4000 but less than 6000\n"
   ]
  },
  {
   "cell_type": "code",
   "execution_count": 172,
   "metadata": {},
   "outputs": [
    {
     "name": "stdout",
     "output_type": "stream",
     "text": [
      " * sqlite:///my_data1.db\n",
      "Done.\n"
     ]
    },
    {
     "data": {
      "text/html": [
       "<table>\n",
       "    <tr>\n",
       "        <th>Booster_Version</th>\n",
       "        <th>PAYLOAD_MASS__KG_</th>\n",
       "        <th>Landing _Outcome</th>\n",
       "    </tr>\n",
       "    <tr>\n",
       "        <td>F9 FT B1022</td>\n",
       "        <td>4696</td>\n",
       "        <td>Success (drone ship)</td>\n",
       "    </tr>\n",
       "    <tr>\n",
       "        <td>F9 FT B1026</td>\n",
       "        <td>4600</td>\n",
       "        <td>Success (drone ship)</td>\n",
       "    </tr>\n",
       "    <tr>\n",
       "        <td>F9 FT  B1021.2</td>\n",
       "        <td>5300</td>\n",
       "        <td>Success (drone ship)</td>\n",
       "    </tr>\n",
       "    <tr>\n",
       "        <td>F9 FT  B1031.2</td>\n",
       "        <td>5200</td>\n",
       "        <td>Success (drone ship)</td>\n",
       "    </tr>\n",
       "</table>"
      ],
      "text/plain": [
       "[('F9 FT B1022', 4696, 'Success (drone ship)'),\n",
       " ('F9 FT B1026', 4600, 'Success (drone ship)'),\n",
       " ('F9 FT  B1021.2', 5300, 'Success (drone ship)'),\n",
       " ('F9 FT  B1031.2', 5200, 'Success (drone ship)')]"
      ]
     },
     "execution_count": 172,
     "metadata": {},
     "output_type": "execute_result"
    }
   ],
   "source": [
    "%sql SELECT \"Booster_Version\", \"PAYLOAD_MASS__KG_\", `Landing _Outcome` FROM SPACEXTBL WHERE \"PAYLOAD_MASS__KG_\">4000 \\\n",
    "AND \"PAYLOAD_MASS__KG_\"<6000 AND `Landing _Outcome` LIKE 'Success (drone ship)';\n",
    "    "
   ]
  },
  {
   "cell_type": "markdown",
   "metadata": {},
   "source": [
    "### Task 7\n",
    "\n",
    "##### List the total number of successful and failure mission outcomes\n"
   ]
  },
  {
   "cell_type": "code",
   "execution_count": 106,
   "metadata": {},
   "outputs": [
    {
     "name": "stdout",
     "output_type": "stream",
     "text": [
      " * sqlite:///my_data1.db\n",
      "Done.\n"
     ]
    },
    {
     "data": {
      "text/html": [
       "<table>\n",
       "    <tr>\n",
       "        <th>Mission_Outcome</th>\n",
       "        <th>Total_number</th>\n",
       "    </tr>\n",
       "    <tr>\n",
       "        <td>Failure (in flight)</td>\n",
       "        <td>1</td>\n",
       "    </tr>\n",
       "    <tr>\n",
       "        <td>Success</td>\n",
       "        <td>98</td>\n",
       "    </tr>\n",
       "    <tr>\n",
       "        <td>Success </td>\n",
       "        <td>1</td>\n",
       "    </tr>\n",
       "    <tr>\n",
       "        <td>Success (payload status unclear)</td>\n",
       "        <td>1</td>\n",
       "    </tr>\n",
       "</table>"
      ],
      "text/plain": [
       "[('Failure (in flight)', 1),\n",
       " ('Success', 98),\n",
       " ('Success ', 1),\n",
       " ('Success (payload status unclear)', 1)]"
      ]
     },
     "execution_count": 106,
     "metadata": {},
     "output_type": "execute_result"
    }
   ],
   "source": [
    "%sql SELECT \"Mission_Outcome\", COUNT(\"Mission_Outcome\") AS \"Total_number\" FROM SPACEXTBL GROUP BY \"Mission_Outcome\";"
   ]
  },
  {
   "cell_type": "markdown",
   "metadata": {},
   "source": [
    "### Task 8\n",
    "\n",
    "##### List the   names of the booster_versions which have carried the maximum payload mass. Use a subquery\n"
   ]
  },
  {
   "cell_type": "code",
   "execution_count": 171,
   "metadata": {},
   "outputs": [
    {
     "name": "stdout",
     "output_type": "stream",
     "text": [
      " * sqlite:///my_data1.db\n",
      "Done.\n"
     ]
    },
    {
     "data": {
      "text/html": [
       "<table>\n",
       "    <tr>\n",
       "        <th>Booster_Version</th>\n",
       "        <th>PAYLOAD_MASS__KG_</th>\n",
       "        <th>Landing _Outcome</th>\n",
       "    </tr>\n",
       "    <tr>\n",
       "        <td>F9 B5 B1048.4</td>\n",
       "        <td>15600</td>\n",
       "        <td>Success</td>\n",
       "    </tr>\n",
       "    <tr>\n",
       "        <td>F9 B5 B1049.4</td>\n",
       "        <td>15600</td>\n",
       "        <td>Success</td>\n",
       "    </tr>\n",
       "    <tr>\n",
       "        <td>F9 B5 B1051.3</td>\n",
       "        <td>15600</td>\n",
       "        <td>Success</td>\n",
       "    </tr>\n",
       "    <tr>\n",
       "        <td>F9 B5 B1056.4</td>\n",
       "        <td>15600</td>\n",
       "        <td>Failure</td>\n",
       "    </tr>\n",
       "    <tr>\n",
       "        <td>F9 B5 B1048.5</td>\n",
       "        <td>15600</td>\n",
       "        <td>Failure</td>\n",
       "    </tr>\n",
       "    <tr>\n",
       "        <td>F9 B5 B1051.4</td>\n",
       "        <td>15600</td>\n",
       "        <td>Success</td>\n",
       "    </tr>\n",
       "    <tr>\n",
       "        <td>F9 B5 B1049.5</td>\n",
       "        <td>15600</td>\n",
       "        <td>Success</td>\n",
       "    </tr>\n",
       "    <tr>\n",
       "        <td>F9 B5 B1060.2 </td>\n",
       "        <td>15600</td>\n",
       "        <td>Success</td>\n",
       "    </tr>\n",
       "    <tr>\n",
       "        <td>F9 B5 B1058.3 </td>\n",
       "        <td>15600</td>\n",
       "        <td>Success</td>\n",
       "    </tr>\n",
       "    <tr>\n",
       "        <td>F9 B5 B1051.6</td>\n",
       "        <td>15600</td>\n",
       "        <td>Success</td>\n",
       "    </tr>\n",
       "    <tr>\n",
       "        <td>F9 B5 B1060.3</td>\n",
       "        <td>15600</td>\n",
       "        <td>Success</td>\n",
       "    </tr>\n",
       "    <tr>\n",
       "        <td>F9 B5 B1049.7 </td>\n",
       "        <td>15600</td>\n",
       "        <td>Success</td>\n",
       "    </tr>\n",
       "</table>"
      ],
      "text/plain": [
       "[('F9 B5 B1048.4', 15600, 'Success'),\n",
       " ('F9 B5 B1049.4', 15600, 'Success'),\n",
       " ('F9 B5 B1051.3', 15600, 'Success'),\n",
       " ('F9 B5 B1056.4', 15600, 'Failure'),\n",
       " ('F9 B5 B1048.5', 15600, 'Failure'),\n",
       " ('F9 B5 B1051.4', 15600, 'Success'),\n",
       " ('F9 B5 B1049.5', 15600, 'Success'),\n",
       " ('F9 B5 B1060.2 ', 15600, 'Success'),\n",
       " ('F9 B5 B1058.3 ', 15600, 'Success'),\n",
       " ('F9 B5 B1051.6', 15600, 'Success'),\n",
       " ('F9 B5 B1060.3', 15600, 'Success'),\n",
       " ('F9 B5 B1049.7 ', 15600, 'Success')]"
      ]
     },
     "execution_count": 171,
     "metadata": {},
     "output_type": "execute_result"
    }
   ],
   "source": [
    "%sql SELECT \"Booster_Version\", \"PAYLOAD_MASS__KG_\", `Landing _Outcome` FROM SPACEXTBL \\\n",
    "WHERE \"PAYLOAD_MASS__KG_\"=(SELECT MAX(\"PAYLOAD_MASS__KG_\") FROM SPACEXTBL);"
   ]
  },
  {
   "cell_type": "markdown",
   "metadata": {},
   "source": [
    "### Task 9\n",
    "\n",
    "##### List the records which will display the month names, failure landing_outcomes in drone ship ,booster versions, launch_site for the months in year 2015.\n",
    "\n",
    "**Note: SQLLite does not support monthnames. So you need to use  substr(Date, 4, 2) as month to get the months and substr(Date,7,4)='2015' for year.**\n"
   ]
  },
  {
   "cell_type": "code",
   "execution_count": 170,
   "metadata": {},
   "outputs": [
    {
     "name": "stdout",
     "output_type": "stream",
     "text": [
      " * sqlite:///my_data1.db\n",
      "Done.\n"
     ]
    },
    {
     "data": {
      "text/html": [
       "<table>\n",
       "    <tr>\n",
       "        <th>Date</th>\n",
       "        <th>Booster_Version</th>\n",
       "        <th>Launch_Site</th>\n",
       "        <th>Landing _Outcome</th>\n",
       "    </tr>\n",
       "    <tr>\n",
       "        <td>10-01-2015</td>\n",
       "        <td>F9 v1.1 B1012</td>\n",
       "        <td>CCAFS LC-40</td>\n",
       "        <td>Failure (drone ship)</td>\n",
       "    </tr>\n",
       "    <tr>\n",
       "        <td>14-04-2015</td>\n",
       "        <td>F9 v1.1 B1015</td>\n",
       "        <td>CCAFS LC-40</td>\n",
       "        <td>Failure (drone ship)</td>\n",
       "    </tr>\n",
       "</table>"
      ],
      "text/plain": [
       "[('10-01-2015', 'F9 v1.1 B1012', 'CCAFS LC-40', 'Failure (drone ship)'),\n",
       " ('14-04-2015', 'F9 v1.1 B1015', 'CCAFS LC-40', 'Failure (drone ship)')]"
      ]
     },
     "execution_count": 170,
     "metadata": {},
     "output_type": "execute_result"
    }
   ],
   "source": [
    "%sql SELECT \"Date\", \"Booster_Version\", \"Launch_Site\",  `Landing _Outcome` FROM SPACEXTBL WHERE `Landing _Outcome` \\\n",
    "LIKE 'Failure%' and \"Date\" LIKE '%2015%' ORDER BY date(\"Date\") DESC"
   ]
  },
  {
   "cell_type": "code",
   "execution_count": 168,
   "metadata": {},
   "outputs": [
    {
     "name": "stdout",
     "output_type": "stream",
     "text": [
      " * sqlite:///my_data1.db\n",
      "Done.\n"
     ]
    },
    {
     "data": {
      "text/html": [
       "<table>\n",
       "    <tr>\n",
       "        <th>Date</th>\n",
       "        <th>Month</th>\n",
       "        <th>Booster_Version</th>\n",
       "        <th>Launch_Site</th>\n",
       "        <th>Landing _Outcome</th>\n",
       "    </tr>\n",
       "    <tr>\n",
       "        <td>10-01-2015</td>\n",
       "        <td>01</td>\n",
       "        <td>F9 v1.1 B1012</td>\n",
       "        <td>CCAFS LC-40</td>\n",
       "        <td>Failure (drone ship)</td>\n",
       "    </tr>\n",
       "    <tr>\n",
       "        <td>14-04-2015</td>\n",
       "        <td>04</td>\n",
       "        <td>F9 v1.1 B1015</td>\n",
       "        <td>CCAFS LC-40</td>\n",
       "        <td>Failure (drone ship)</td>\n",
       "    </tr>\n",
       "</table>"
      ],
      "text/plain": [
       "[('10-01-2015', '01', 'F9 v1.1 B1012', 'CCAFS LC-40', 'Failure (drone ship)'),\n",
       " ('14-04-2015', '04', 'F9 v1.1 B1015', 'CCAFS LC-40', 'Failure (drone ship)')]"
      ]
     },
     "execution_count": 168,
     "metadata": {},
     "output_type": "execute_result"
    }
   ],
   "source": [
    "%sql SELECT \"Date\", substr(\"Date\",4,2) AS \"Month\" , \"Booster_Version\", \"Launch_Site\",  `Landing _Outcome` FROM SPACEXTBL \\\n",
    "WHERE `Landing _Outcome` LIKE 'Failure%' and substr(\"Date\",7,4) LIKE '2015' ORDER BY date(\"Date\") DESC"
   ]
  },
  {
   "cell_type": "markdown",
   "metadata": {},
   "source": [
    "### Task 10\n",
    "\n",
    "##### Rank the  count of  successful landing_outcomes between the date 04-06-2010 and 20-03-2017 in descending order.\n"
   ]
  },
  {
   "cell_type": "code",
   "execution_count": 162,
   "metadata": {},
   "outputs": [
    {
     "name": "stdout",
     "output_type": "stream",
     "text": [
      " * sqlite:///my_data1.db\n",
      "Done.\n"
     ]
    },
    {
     "data": {
      "text/html": [
       "<table>\n",
       "    <tr>\n",
       "        <th>Landing _Outcome</th>\n",
       "        <th>Count</th>\n",
       "    </tr>\n",
       "    <tr>\n",
       "        <td>Success</td>\n",
       "        <td>20</td>\n",
       "    </tr>\n",
       "    <tr>\n",
       "        <td>Success (drone ship)</td>\n",
       "        <td>8</td>\n",
       "    </tr>\n",
       "    <tr>\n",
       "        <td>Success (ground pad)</td>\n",
       "        <td>6</td>\n",
       "    </tr>\n",
       "</table>"
      ],
      "text/plain": [
       "[('Success', 20), ('Success (drone ship)', 8), ('Success (ground pad)', 6)]"
      ]
     },
     "execution_count": 162,
     "metadata": {},
     "output_type": "execute_result"
    }
   ],
   "source": [
    "#Successful outcomes:\n",
    "%sql SELECT `Landing _Outcome`, COUNT(`Landing _Outcome`) AS \"Count\" FROM SPACEXTBL WHERE `Landing _Outcome` LIKE 'Success%' \\\n",
    "AND substr(\"Date\",1,2)||substr(\"Date\",4,2)||substr(\"Date\",7,4) BETWEEN '04062010' AND '20032017' GROUP BY `Landing _Outcome` \\\n",
    "ORDER BY \"Count\" DESC; \n"
   ]
  },
  {
   "cell_type": "code",
   "execution_count": 163,
   "metadata": {},
   "outputs": [
    {
     "name": "stdout",
     "output_type": "stream",
     "text": [
      " * sqlite:///my_data1.db\n",
      "Done.\n"
     ]
    },
    {
     "data": {
      "text/html": [
       "<table>\n",
       "    <tr>\n",
       "        <th>Landing _Outcome</th>\n",
       "        <th>Count</th>\n",
       "    </tr>\n",
       "    <tr>\n",
       "        <td>Failure (drone ship)</td>\n",
       "        <td>4</td>\n",
       "    </tr>\n",
       "    <tr>\n",
       "        <td>Failure</td>\n",
       "        <td>3</td>\n",
       "    </tr>\n",
       "    <tr>\n",
       "        <td>Failure (parachute)</td>\n",
       "        <td>2</td>\n",
       "    </tr>\n",
       "</table>"
      ],
      "text/plain": [
       "[('Failure (drone ship)', 4), ('Failure', 3), ('Failure (parachute)', 2)]"
      ]
     },
     "execution_count": 163,
     "metadata": {},
     "output_type": "execute_result"
    }
   ],
   "source": [
    "#Unsuccessful outcomes:\n",
    "%sql SELECT `Landing _Outcome`, COUNT(`Landing _Outcome`) AS \"Count\" FROM SPACEXTBL WHERE `Landing _Outcome` LIKE 'Failure%' \\\n",
    "AND substr(\"Date\",1,2)||substr(\"Date\",4,2)||substr(\"Date\",7,4) BETWEEN '04062010' AND '20032017' GROUP BY `Landing _Outcome` \\\n",
    "ORDER BY \"Count\" DESC; "
   ]
  },
  {
   "cell_type": "markdown",
   "metadata": {},
   "source": [
    "#####  Other queries:"
   ]
  },
  {
   "cell_type": "code",
   "execution_count": 121,
   "metadata": {},
   "outputs": [
    {
     "name": "stdout",
     "output_type": "stream",
     "text": [
      " * sqlite:///my_data1.db\n",
      "Done.\n"
     ]
    },
    {
     "data": {
      "text/html": [
       "<table>\n",
       "    <tr>\n",
       "        <th>MIN(PAYLOAD_MASS__KG_)</th>\n",
       "    </tr>\n",
       "    <tr>\n",
       "        <td>0</td>\n",
       "    </tr>\n",
       "</table>"
      ],
      "text/plain": [
       "[(0,)]"
      ]
     },
     "execution_count": 121,
     "metadata": {},
     "output_type": "execute_result"
    }
   ],
   "source": [
    "%sql SELECT MIN(\"PAYLOAD_MASS__KG_\") FROM SPACEXTBL"
   ]
  },
  {
   "cell_type": "code",
   "execution_count": 122,
   "metadata": {
    "scrolled": true
   },
   "outputs": [
    {
     "name": "stdout",
     "output_type": "stream",
     "text": [
      " * sqlite:///my_data1.db\n",
      "Done.\n"
     ]
    },
    {
     "data": {
      "text/html": [
       "<table>\n",
       "    <tr>\n",
       "        <th>MAX(Date)</th>\n",
       "    </tr>\n",
       "    <tr>\n",
       "        <td>31-01-2018</td>\n",
       "    </tr>\n",
       "</table>"
      ],
      "text/plain": [
       "[('31-01-2018',)]"
      ]
     },
     "execution_count": 122,
     "metadata": {},
     "output_type": "execute_result"
    }
   ],
   "source": [
    "%sql SELECT MAX(\"Date\") FROM SPACEXTBL"
   ]
  },
  {
   "cell_type": "code",
   "execution_count": 164,
   "metadata": {},
   "outputs": [
    {
     "name": "stdout",
     "output_type": "stream",
     "text": [
      " * sqlite:///my_data1.db\n",
      "Done.\n"
     ]
    },
    {
     "data": {
      "text/html": [
       "<table>\n",
       "    <tr>\n",
       "        <th>COUNT(`Landing _Outcome`)</th>\n",
       "    </tr>\n",
       "    <tr>\n",
       "        <td>34</td>\n",
       "    </tr>\n",
       "</table>"
      ],
      "text/plain": [
       "[(34,)]"
      ]
     },
     "execution_count": 164,
     "metadata": {},
     "output_type": "execute_result"
    }
   ],
   "source": [
    "%sql SELECT COUNT(`Landing _Outcome`) FROM SPACEXTBL WHERE `Landing _Outcome` LIKE 'Success%' AND substr(\"Date\",1,2)||substr(\"Date\",4,2)||substr(\"Date\",7,4) BETWEEN '04062010' AND '20032017';\n"
   ]
  },
  {
   "cell_type": "code",
   "execution_count": 165,
   "metadata": {},
   "outputs": [
    {
     "name": "stdout",
     "output_type": "stream",
     "text": [
      " * sqlite:///my_data1.db\n",
      "Done.\n"
     ]
    },
    {
     "data": {
      "text/html": [
       "<table>\n",
       "    <tr>\n",
       "        <th>Landing _Outcome</th>\n",
       "        <th>Date</th>\n",
       "    </tr>\n",
       "    <tr>\n",
       "        <td>Success (drone ship)</td>\n",
       "        <td>08-04-2016</td>\n",
       "    </tr>\n",
       "    <tr>\n",
       "        <td>Success (drone ship)</td>\n",
       "        <td>06-05-2016</td>\n",
       "    </tr>\n",
       "    <tr>\n",
       "        <td>Success (ground pad)</td>\n",
       "        <td>18-07-2016</td>\n",
       "    </tr>\n",
       "    <tr>\n",
       "        <td>Success (drone ship)</td>\n",
       "        <td>14-08-2016</td>\n",
       "    </tr>\n",
       "    <tr>\n",
       "        <td>Success (drone ship)</td>\n",
       "        <td>14-01-2017</td>\n",
       "    </tr>\n",
       "    <tr>\n",
       "        <td>Success (ground pad)</td>\n",
       "        <td>19-02-2017</td>\n",
       "    </tr>\n",
       "    <tr>\n",
       "        <td>Success (ground pad)</td>\n",
       "        <td>14-08-2017</td>\n",
       "    </tr>\n",
       "    <tr>\n",
       "        <td>Success (ground pad)</td>\n",
       "        <td>07-09-2017</td>\n",
       "    </tr>\n",
       "    <tr>\n",
       "        <td>Success (drone ship)</td>\n",
       "        <td>09-10-2017</td>\n",
       "    </tr>\n",
       "    <tr>\n",
       "        <td>Success (drone ship)</td>\n",
       "        <td>11-10-2017</td>\n",
       "    </tr>\n",
       "    <tr>\n",
       "        <td>Success (ground pad)</td>\n",
       "        <td>15-12-2017</td>\n",
       "    </tr>\n",
       "    <tr>\n",
       "        <td>Success (ground pad)</td>\n",
       "        <td>08-01-2018</td>\n",
       "    </tr>\n",
       "    <tr>\n",
       "        <td>Success (drone ship)</td>\n",
       "        <td>18-04-2018</td>\n",
       "    </tr>\n",
       "    <tr>\n",
       "        <td>Success (drone ship)</td>\n",
       "        <td>11-05-2018</td>\n",
       "    </tr>\n",
       "    <tr>\n",
       "        <td>Success</td>\n",
       "        <td>07-08-2018</td>\n",
       "    </tr>\n",
       "    <tr>\n",
       "        <td>Success</td>\n",
       "        <td>10-09-2018</td>\n",
       "    </tr>\n",
       "    <tr>\n",
       "        <td>Success</td>\n",
       "        <td>08-10-2018</td>\n",
       "    </tr>\n",
       "    <tr>\n",
       "        <td>Success</td>\n",
       "        <td>15-11-2018</td>\n",
       "    </tr>\n",
       "    <tr>\n",
       "        <td>Success</td>\n",
       "        <td>11-01-2019</td>\n",
       "    </tr>\n",
       "    <tr>\n",
       "        <td>Success</td>\n",
       "        <td>12-06-2019</td>\n",
       "    </tr>\n",
       "    <tr>\n",
       "        <td>Success</td>\n",
       "        <td>11-11-2019</td>\n",
       "    </tr>\n",
       "    <tr>\n",
       "        <td>Success</td>\n",
       "        <td>05-12-2019</td>\n",
       "    </tr>\n",
       "    <tr>\n",
       "        <td>Success</td>\n",
       "        <td>17-12-2019</td>\n",
       "    </tr>\n",
       "    <tr>\n",
       "        <td>Success</td>\n",
       "        <td>07-01-2020</td>\n",
       "    </tr>\n",
       "    <tr>\n",
       "        <td>Success</td>\n",
       "        <td>07-03-2020</td>\n",
       "    </tr>\n",
       "    <tr>\n",
       "        <td>Success</td>\n",
       "        <td>04-06-2020</td>\n",
       "    </tr>\n",
       "    <tr>\n",
       "        <td>Success</td>\n",
       "        <td>13-06-2020</td>\n",
       "    </tr>\n",
       "    <tr>\n",
       "        <td>Success</td>\n",
       "        <td>07-08-2020</td>\n",
       "    </tr>\n",
       "    <tr>\n",
       "        <td>Success</td>\n",
       "        <td>18-08-2020</td>\n",
       "    </tr>\n",
       "    <tr>\n",
       "        <td>Success</td>\n",
       "        <td>06-10-2020</td>\n",
       "    </tr>\n",
       "    <tr>\n",
       "        <td>Success</td>\n",
       "        <td>18-10-2020</td>\n",
       "    </tr>\n",
       "    <tr>\n",
       "        <td>Success</td>\n",
       "        <td>05-11-2020</td>\n",
       "    </tr>\n",
       "    <tr>\n",
       "        <td>Success</td>\n",
       "        <td>16-11-2020</td>\n",
       "    </tr>\n",
       "    <tr>\n",
       "        <td>Success</td>\n",
       "        <td>06-12-2020</td>\n",
       "    </tr>\n",
       "</table>"
      ],
      "text/plain": [
       "[('Success (drone ship)', '08-04-2016'),\n",
       " ('Success (drone ship)', '06-05-2016'),\n",
       " ('Success (ground pad)', '18-07-2016'),\n",
       " ('Success (drone ship)', '14-08-2016'),\n",
       " ('Success (drone ship)', '14-01-2017'),\n",
       " ('Success (ground pad)', '19-02-2017'),\n",
       " ('Success (ground pad)', '14-08-2017'),\n",
       " ('Success (ground pad)', '07-09-2017'),\n",
       " ('Success (drone ship)', '09-10-2017'),\n",
       " ('Success (drone ship)', '11-10-2017'),\n",
       " ('Success (ground pad)', '15-12-2017'),\n",
       " ('Success (ground pad)', '08-01-2018'),\n",
       " ('Success (drone ship)', '18-04-2018'),\n",
       " ('Success (drone ship)', '11-05-2018'),\n",
       " ('Success', '07-08-2018'),\n",
       " ('Success', '10-09-2018'),\n",
       " ('Success', '08-10-2018'),\n",
       " ('Success', '15-11-2018'),\n",
       " ('Success', '11-01-2019'),\n",
       " ('Success', '12-06-2019'),\n",
       " ('Success', '11-11-2019'),\n",
       " ('Success', '05-12-2019'),\n",
       " ('Success', '17-12-2019'),\n",
       " ('Success', '07-01-2020'),\n",
       " ('Success', '07-03-2020'),\n",
       " ('Success', '04-06-2020'),\n",
       " ('Success', '13-06-2020'),\n",
       " ('Success', '07-08-2020'),\n",
       " ('Success', '18-08-2020'),\n",
       " ('Success', '06-10-2020'),\n",
       " ('Success', '18-10-2020'),\n",
       " ('Success', '05-11-2020'),\n",
       " ('Success', '16-11-2020'),\n",
       " ('Success', '06-12-2020')]"
      ]
     },
     "execution_count": 165,
     "metadata": {},
     "output_type": "execute_result"
    }
   ],
   "source": [
    "%sql SELECT `Landing _Outcome`,\"Date\" FROM SPACEXTBL WHERE `Landing _Outcome` LIKE 'Success%' AND substr(\"Date\",1,2)||substr(\"Date\",4,2)||substr(\"Date\",7,4) BETWEEN '04062010' AND '20032017' ORDER BY date(\"Date\") DESC;\n",
    "#dates don't want to descend"
   ]
  },
  {
   "cell_type": "markdown",
   "metadata": {},
   "source": [
    "### Reference Links\n",
    "\n",
    "*   <a href =\"https://cf-courses-data.s3.us.cloud-object-storage.appdomain.cloud/IBMDeveloperSkillsNetwork-DB0201EN-SkillsNetwork/labs/Labs_Coursera_V5/labs/Lab%20-%20String%20Patterns%20-%20Sorting%20-%20Grouping/instructional-labs.md.html?utm_medium=Exinfluencer&utm_source=Exinfluencer&utm_content=000026UJ&utm_term=10006555&utm_id=NA-SkillsNetwork-Channel-SkillsNetworkCoursesIBMDS0321ENSkillsNetwork26802033-2022-01-01&origin=www.coursera.org\">Hands-on Lab : String Patterns, Sorting and Grouping</a>\n",
    "\n",
    "*   <a  href=\"https://cf-courses-data.s3.us.cloud-object-storage.appdomain.cloud/IBMDeveloperSkillsNetwork-DB0201EN-SkillsNetwork/labs/Labs_Coursera_V5/labs/Lab%20-%20Built-in%20functions%20/Hands-on_Lab__Built-in_Functions.md.html?utm_medium=Exinfluencer&utm_source=Exinfluencer&utm_content=000026UJ&utm_term=10006555&utm_id=NA-SkillsNetwork-Channel-SkillsNetworkCoursesIBMDS0321ENSkillsNetwork26802033-2022-01-01&origin=www.coursera.org\">Hands-on Lab: Built-in functions</a>\n",
    "\n",
    "*   <a  href=\"https://cf-courses-data.s3.us.cloud-object-storage.appdomain.cloud/IBMDeveloperSkillsNetwork-DB0201EN-SkillsNetwork/labs/Labs_Coursera_V5/labs/Lab%20-%20Sub-queries%20and%20Nested%20SELECTs%20/instructional-labs.md.html?utm_medium=Exinfluencer&utm_source=Exinfluencer&utm_content=000026UJ&utm_term=10006555&utm_id=NA-SkillsNetwork-Channel-SkillsNetworkCoursesIBMDS0321ENSkillsNetwork26802033-2022-01-01&origin=www.coursera.org\">Hands-on Lab : Sub-queries and Nested SELECT Statements</a>\n",
    "\n",
    "*   <a href=\"https://cf-courses-data.s3.us.cloud-object-storage.appdomain.cloud/IBMDeveloperSkillsNetwork-DB0201EN-SkillsNetwork/labs/Module%205/DB0201EN-Week3-1-3-SQLmagic.ipynb?utm_medium=Exinfluencer&utm_source=Exinfluencer&utm_content=000026UJ&utm_term=10006555&utm_id=NA-SkillsNetwork-Channel-SkillsNetworkCoursesIBMDS0321ENSkillsNetwork26802033-2022-01-01\">Hands-on Tutorial: Accessing Databases with SQL magic</a>\n",
    "\n",
    "*   <a href= \"https://cf-courses-data.s3.us.cloud-object-storage.appdomain.cloud/IBMDeveloperSkillsNetwork-DB0201EN-SkillsNetwork/labs/Module%205/DB0201EN-Week3-1-4-Analyzing.ipynb?utm_medium=Exinfluencer&utm_source=Exinfluencer&utm_content=000026UJ&utm_term=10006555&utm_id=NA-SkillsNetwork-Channel-SkillsNetworkCoursesIBMDS0321ENSkillsNetwork26802033-2022-01-01\">Hands-on Lab: Analyzing a real World Data Set</a>\n"
   ]
  },
  {
   "cell_type": "markdown",
   "metadata": {},
   "source": [
    "## Author(s)\n",
    "\n",
    "<h4> Lakshmi Holla </h4>\n"
   ]
  },
  {
   "cell_type": "markdown",
   "metadata": {},
   "source": [
    "## Other Contributors\n",
    "\n",
    "<h4> Rav Ahuja </h4>\n"
   ]
  },
  {
   "cell_type": "markdown",
   "metadata": {},
   "source": [
    "## Change log\n",
    "\n",
    "| Date       | Version | Changed by    | Change Description        |\n",
    "| ---------- | ------- | ------------- | ------------------------- |\n",
    "| 2021-07-09 | 0.2     | Lakshmi Holla | Changes made in magic sql |\n",
    "| 2021-05-20 | 0.1     | Lakshmi Holla | Created Initial Version   |\n"
   ]
  },
  {
   "cell_type": "markdown",
   "metadata": {},
   "source": [
    "## <h3 align=\"center\"> © IBM Corporation 2021. All rights reserved. <h3/>\n"
   ]
  }
 ],
 "metadata": {
  "kernelspec": {
   "display_name": "Python 3 (ipykernel)",
   "language": "python",
   "name": "python3"
  },
  "language_info": {
   "codemirror_mode": {
    "name": "ipython",
    "version": 3
   },
   "file_extension": ".py",
   "mimetype": "text/x-python",
   "name": "python",
   "nbconvert_exporter": "python",
   "pygments_lexer": "ipython3",
   "version": "3.9.7"
  }
 },
 "nbformat": 4,
 "nbformat_minor": 4
}
